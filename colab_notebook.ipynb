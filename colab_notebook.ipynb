{
 "cells": [
  {
   "cell_type": "markdown",
   "metadata": {
    "id": "COs_-Y1xOKeJ"
   },
   "source": [
    "### Running Your Code in Colab\n",
    "\n",
    "**Colab GPU Compute is heavily limited!!!**\n",
    "\n",
    "We strongly recommend you develop and test all of your code locally, and only use Colab to run the below cells to generate outputs for your empirical questions. **When you are not actively running a cell, you should disconnect your runtime** to save on compute. If you run out of compute, you will have to wait until the next day to try again. You should not need to pay for Colab pro unless you leave this assignment until the last minute.\n",
    "\n",
    "You'll need to upload your code to drive. We recommend uploading the entire `handout/` folder to your drive, minimally with `rnn.py`, `test_runner.py`, `data/tiny_train_stories.json`, and `data/tiny_valid_stories.json`.\n",
    "\n",
    "For experiments with a batch size greater than one, use the T4 GPU in order to see a *significant* speedup. This is crucial in order to run the experiments in a reasonable amount of time."
   ]
  },
  {
   "cell_type": "code",
   "execution_count": null,
   "metadata": {
    "id": "0X2yjR1bI5C4"
   },
   "outputs": [],
   "source": [
    "# Mount your drive to access files in your Google Drive\n",
    "from google.colab import drive\n",
    "drive.mount('/content/drive')"
   ]
  },
  {
   "cell_type": "code",
   "execution_count": null,
   "metadata": {
    "id": "oRpmUnlJJRyG"
   },
   "outputs": [],
   "source": [
    "# cd into the directory where your code is\n",
    "# e.g. %cd /content/drive/MyDrive/cmu/10-301/hw7/handout\n",
    "%cd /content/drive/MyDrive/<path to your code>"
   ]
  },
  {
   "cell_type": "code",
   "execution_count": null,
   "metadata": {},
   "outputs": [],
   "source": [
    "# You should only need to run this cell once. Comment it out once you have obtained these files.\n",
    "# Make sure that you have a folder named 'data' in your directory\n",
    "!mkdir data\n",
    "!gdown --no-check-certificate \"https://drive.google.com/uc?export=download&id=1YZhMGnJNLiB6mLdvlI0nW88CQg24X7Ku\" -O data/HW7_large_stories.zip\n",
    "!unzip data/HW7_large_stories.zip -d data"
   ]
  },
  {
   "cell_type": "code",
   "execution_count": null,
   "metadata": {},
   "outputs": [],
   "source": [
    "# Set your data paths. Change this if the data is in a different location\n",
    "tiny_train_stories = 'data/tiny_train_stories.json'\n",
    "tiny_valid_stories = 'data/tiny_valid_stories.json'\n",
    "\n",
    "full_train_stories = 'data/HW7_large_stories/train_stories.json'\n",
    "full_valid_stories = 'data/HW7_large_stories/valid_stories.json'"
   ]
  },
  {
   "cell_type": "markdown",
   "metadata": {
    "id": "t4Whb8pdGOMU"
   },
   "source": [
    "#### Testing"
   ]
  },
  {
   "cell_type": "code",
   "execution_count": null,
   "metadata": {
    "id": "ign1vlA-c1lG"
   },
   "outputs": [],
   "source": [
    "!python test_runner.py"
   ]
  },
  {
   "cell_type": "code",
   "execution_count": null,
   "metadata": {
    "id": "iwfiNlt_GNpI"
   },
   "outputs": [],
   "source": [
    "!python rnn.py --train_data {tiny_train_stories} --val_data {tiny_valid_stories} --embed_dim 64 --hidden_dim 128 --train_losses_out train_loss.txt --val_losses_out valid_loss.txt --metrics_out metrics.txt --dk 32 --dv 32 --num_sequences 128 --batch_size 1"
   ]
  },
  {
   "cell_type": "markdown",
   "metadata": {
    "id": "5Y89FUa-7Mru"
   },
   "source": [
    "#### 5.1\n",
    "\n",
    "Uncomment the corresponding `embed_hidden_dims`"
   ]
  },
  {
   "cell_type": "code",
   "execution_count": null,
   "metadata": {
    "id": "8msmm2XCKveG"
   },
   "outputs": [],
   "source": [
    "embed_hidden_dims = 64\n",
    "# embed_hidden_dims = 128\n",
    "# embed_hidden_dims = 256\n",
    "# embed_hidden_dims = 512\n",
    "!python rnn.py --train_data {full_train_stories} --val_data {full_valid_stories} --embed_dim {embed_hidden_dims} --hidden_dim {embed_hidden_dims} --train_losses_out train_losses.txt --val_losses_out val_losses.txt --metrics_out metrics.txt --dk 128 --dv 128 --num_sequences 50000 --batch_size 128"
   ]
  },
  {
   "cell_type": "markdown",
   "metadata": {
    "id": "nQ4fn9YDAmiW"
   },
   "source": [
    "#### 5.2"
   ]
  },
  {
   "cell_type": "code",
   "execution_count": null,
   "metadata": {
    "id": "Vh5lsRTuApFD"
   },
   "outputs": [],
   "source": [
    "batch_size = 32\n",
    "# batch_size = 64\n",
    "# batch_size = 128\n",
    "# batch_size = 256\n",
    "!python rnn.py --train_data {full_train_stories} --val_data {full_valid_stories} --embed_dim 128 --hidden_dim 128 --train_losses_out train_losses.txt --val_losses_out val_losses.txt --metrics_out metrics.txt --dk 128 --dv 128 --num_sequences 50000 --batch_size {batch_size}"
   ]
  },
  {
   "cell_type": "markdown",
   "metadata": {
    "id": "l3-FuxQlB8TI"
   },
   "source": [
    "#### 5.3"
   ]
  },
  {
   "cell_type": "code",
   "execution_count": null,
   "metadata": {
    "id": "YtltQa_uB9a_"
   },
   "outputs": [],
   "source": [
    "num_sequences = 10000\n",
    "# num_sequences = 20000\n",
    "# num_sequences = 50000\n",
    "# num_sequences = 100000\n",
    "!python rnn.py --train_data {full_train_stories} --val_data {full_valid_stories} --embed_dim 128 --hidden_dim 128 --train_losses_out train_losses.txt --val_losses_out val_losses.txt --metrics_out metrics.txt --dk 128 --dv 128 --num_sequences {num_sequences} --batch_size 128"
   ]
  },
  {
   "cell_type": "markdown",
   "metadata": {
    "id": "8iwe2VRiEjO2"
   },
   "source": [
    "#### 5.4\n",
    "\n"
   ]
  },
  {
   "cell_type": "code",
   "execution_count": null,
   "metadata": {
    "id": "rtMCKtcJEkZ0"
   },
   "outputs": [],
   "source": [
    "!python rnn.py --train_data {full_train_stories} --val_data {full_valid_stories} --embed_dim 512 --hidden_dim 512 --train_losses_out train_losses.txt --val_losses_out val_losses.txt --metrics_out metrics.txt --dk 256 --dv 256 --num_sequences 250000 --batch_size 128"
   ]
  }
 ],
 "metadata": {
  "colab": {
   "provenance": []
  },
  "kernelspec": {
   "display_name": "Python 3",
   "name": "python3"
  },
  "language_info": {
   "name": "python"
  }
 },
 "nbformat": 4,
 "nbformat_minor": 0
}
